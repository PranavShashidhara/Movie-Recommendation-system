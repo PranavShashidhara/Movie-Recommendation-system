{
  "nbformat": 4,
  "nbformat_minor": 0,
  "metadata": {
    "colab": {
      "provenance": [],
      "authorship_tag": "ABX9TyMjiV+1JzGHswrv0ZGBcpNM",
      "include_colab_link": true
    },
    "kernelspec": {
      "name": "python3",
      "display_name": "Python 3"
    },
    "language_info": {
      "name": "python"
    }
  },
  "cells": [
    {
      "cell_type": "markdown",
      "metadata": {
        "id": "view-in-github",
        "colab_type": "text"
      },
      "source": [
        "<a href=\"https://colab.research.google.com/github/PranavShashidhara/Movie-Recommendation-system/blob/main/Matrix_Factorization.ipynb\" target=\"_parent\"><img src=\"https://colab.research.google.com/assets/colab-badge.svg\" alt=\"Open In Colab\"/></a>"
      ]
    },
    {
      "cell_type": "code",
      "execution_count": 1,
      "metadata": {
        "id": "XvTeuzwPqmUG"
      },
      "outputs": [],
      "source": [
        "import numpy as np\n",
        "import pandas as pd\n",
        "import os\n",
        "from sklearn.utils import shuffle\n",
        "from datetime import datetime\n",
        "import json\n",
        "import pickle\n",
        "import matplotlib.pyplot as plt"
      ]
    },
    {
      "cell_type": "code",
      "source": [
        "with open('user2movie_10M.json', \"rb\") as f:\n",
        "  user2movie = pickle.load(f)\n",
        "with open('movie2user_10M.json', \"rb\") as f:\n",
        "  movie2user = pickle.load(f)\n",
        "with open('usermovie2rating_10M.json', \"rb\") as f:\n",
        "  usermovie2rating = pickle.load(f)\n",
        "with open('usermovie2rating_test_10M.json', \"rb\") as f:\n",
        "  usermovie2rating_test = pickle.load(f)\n",
        "\n",
        "N = np.max(list(user2movie.keys())) + 1 # number of users\n",
        "m1 = np.max(list(movie2user.keys())) # number of movies\n",
        "m2 = np.max([m for (u, m), r in usermovie2rating_test.items()])\n",
        "M = max(m1, m2) + 1\n",
        "K = 10\n",
        "print(\"N:\", N, \"M:\", M)\n",
        "\n",
        "W = np.random.randn(N, K)\n",
        "b = np.zeros(N)\n",
        "c = np.zeros(M)\n",
        "U = np.random.randn(M, K)\n",
        "print(type(usermovie2rating.values()))\n",
        "mu = np.mean(list(map(float, usermovie2rating.values())))\n",
        "\n",
        "epochs = 10\n",
        "reg = 0.001 # Regularization penalty\n",
        "train_losses = []\n",
        "test_losses = []\n",
        "val_losses = []\n",
        "\n",
        "def get_loss(d): # custom loss function required as the different bias variables needs to be taken into account for mse calculations.\n",
        "  # d: (user_id, movie_id) -> rating\n",
        "  N = float(len(d))\n",
        "  sse = 0\n",
        "  for k, r in d.items():\n",
        "    i, j = k\n",
        "    p = W[i].dot(W[j]) + b[i] + c[j] + mu # squared error formula\n",
        "    r = float(r)\n",
        "    sse += (r-p) ** 2\n",
        "    return sse / N"
      ],
      "metadata": {
        "colab": {
          "base_uri": "https://localhost:8080/"
        },
        "id": "V4Sot4Ph7709",
        "outputId": "0280cf4a-d7ae-45a9-b75f-baeb6a7ea146"
      },
      "execution_count": 7,
      "outputs": [
        {
          "output_type": "stream",
          "name": "stdout",
          "text": [
            "N: 10000 M: 2000\n",
            "<class 'dict_values'>\n"
          ]
        }
      ]
    },
    {
      "cell_type": "code",
      "source": [
        "for epoch in range(epochs): # Looping through multiple epochs\n",
        "  print(\"epoch:\", epoch)\n",
        "  # for updating W and b\n",
        "  for i in range(N): #looping through each user\n",
        "    matrix = np.eye(K) * reg\n",
        "    vector = np.zeros(K)\n",
        "    bi = 0\n",
        "\n",
        "    for j in user2movie[i]: # looping through each movie\n",
        "      r = usermovie2rating[(i, j)]\n",
        "      r = float(r)\n",
        "      matrix += np.outer(U[j], U[j])\n",
        "      vector += (r - b[i] - c[j] - mu) * U[j]\n",
        "      bi = r - W[i].dot(U[j]) - c[j] - mu\n",
        "    W[i] = np.linalg.solve(matrix, vector)\n",
        "    b[i] = bi/(len(user2movie[i]) + reg)\n",
        "\n",
        "    if i % (N//10) == 0:\n",
        "      print(\"i:\", i, \"N:\", N)\n",
        "\n",
        "  # for updating U and c\n",
        "  for j in range(M):\n",
        "    matrix = np.eye(K) * reg\n",
        "    vector = np.zeros(K)\n",
        "\n",
        "    cj = 0\n",
        "    try: # Since it is possible to have no user ratings for a given movie in the train set which might be in the test set.\n",
        "      for i in movie2user[j]:\n",
        "        r = usermovie2rating[(i,j)]\n",
        "        r = float(r)\n",
        "        matrix += np.outer(W[i], W[i])\n",
        "        vector += (r - b[i] - c[j] - mu)*W[i]\n",
        "        cj += (r - W[i].dot(U[j]) - b[i] - mu)\n",
        "\n",
        "      # set the updates\n",
        "      U[j] = np.linalg.solve(matrix, vector)\n",
        "      c[j] = cj / (len(movie2user[j]) + reg)\n",
        "    except:\n",
        "      pass\n",
        "  train_losses.append(get_loss(usermovie2rating))\n",
        "  test_losses.append(get_loss(usermovie2rating_test))\n",
        "  print(\"train_loss:\", train_losses[-1])\n",
        "  print(\"test_loss:\", test_losses[-1])\n",
        "\n",
        "print(\"train_losses\", train_losses[-1])\n",
        "print(\"test_losses:\", test_losses[-1])\n",
        ""
      ],
      "metadata": {
        "colab": {
          "base_uri": "https://localhost:8080/"
        },
        "id": "_uf4LhmZAmOY",
        "outputId": "33594786-ee05-4f1d-fabc-7b69644632f2"
      },
      "execution_count": 8,
      "outputs": [
        {
          "output_type": "stream",
          "name": "stdout",
          "text": [
            "epoch: 0\n",
            "i: 0 N: 10000\n",
            "i: 1000 N: 10000\n",
            "i: 2000 N: 10000\n",
            "i: 3000 N: 10000\n",
            "i: 4000 N: 10000\n",
            "i: 5000 N: 10000\n",
            "i: 6000 N: 10000\n",
            "i: 7000 N: 10000\n",
            "i: 8000 N: 10000\n",
            "i: 9000 N: 10000\n",
            "train_loss: 4.130190040255662e-07\n",
            "test_loss: 1.4922994702619355e-07\n",
            "epoch: 1\n",
            "i: 0 N: 10000\n",
            "i: 1000 N: 10000\n",
            "i: 2000 N: 10000\n",
            "i: 3000 N: 10000\n",
            "i: 4000 N: 10000\n",
            "i: 5000 N: 10000\n",
            "i: 6000 N: 10000\n",
            "i: 7000 N: 10000\n",
            "i: 8000 N: 10000\n",
            "i: 9000 N: 10000\n",
            "train_loss: 3.9935066857986195e-07\n",
            "test_loss: 1.6272739697708899e-07\n",
            "epoch: 2\n",
            "i: 0 N: 10000\n",
            "i: 1000 N: 10000\n",
            "i: 2000 N: 10000\n",
            "i: 3000 N: 10000\n",
            "i: 4000 N: 10000\n",
            "i: 5000 N: 10000\n",
            "i: 6000 N: 10000\n",
            "i: 7000 N: 10000\n",
            "i: 8000 N: 10000\n",
            "i: 9000 N: 10000\n",
            "train_loss: 4.1734826836680585e-07\n",
            "test_loss: 1.659312308514248e-07\n",
            "epoch: 3\n",
            "i: 0 N: 10000\n",
            "i: 1000 N: 10000\n",
            "i: 2000 N: 10000\n",
            "i: 3000 N: 10000\n",
            "i: 4000 N: 10000\n",
            "i: 5000 N: 10000\n",
            "i: 6000 N: 10000\n",
            "i: 7000 N: 10000\n",
            "i: 8000 N: 10000\n",
            "i: 9000 N: 10000\n",
            "train_loss: 4.1604987916933396e-07\n",
            "test_loss: 1.5963505207225534e-07\n",
            "epoch: 4\n",
            "i: 0 N: 10000\n",
            "i: 1000 N: 10000\n",
            "i: 2000 N: 10000\n",
            "i: 3000 N: 10000\n",
            "i: 4000 N: 10000\n",
            "i: 5000 N: 10000\n",
            "i: 6000 N: 10000\n",
            "i: 7000 N: 10000\n",
            "i: 8000 N: 10000\n",
            "i: 9000 N: 10000\n",
            "train_loss: 4.2361977676340254e-07\n",
            "test_loss: 1.5803379644026626e-07\n",
            "epoch: 5\n",
            "i: 0 N: 10000\n",
            "i: 1000 N: 10000\n",
            "i: 2000 N: 10000\n",
            "i: 3000 N: 10000\n",
            "i: 4000 N: 10000\n",
            "i: 5000 N: 10000\n",
            "i: 6000 N: 10000\n",
            "i: 7000 N: 10000\n",
            "i: 8000 N: 10000\n",
            "i: 9000 N: 10000\n",
            "train_loss: 4.2462514099521793e-07\n",
            "test_loss: 1.5412441078453694e-07\n",
            "epoch: 6\n",
            "i: 0 N: 10000\n",
            "i: 1000 N: 10000\n",
            "i: 2000 N: 10000\n",
            "i: 3000 N: 10000\n",
            "i: 4000 N: 10000\n",
            "i: 5000 N: 10000\n",
            "i: 6000 N: 10000\n",
            "i: 7000 N: 10000\n",
            "i: 8000 N: 10000\n",
            "i: 9000 N: 10000\n",
            "train_loss: 4.2726871522349413e-07\n",
            "test_loss: 1.520076343276587e-07\n",
            "epoch: 7\n",
            "i: 0 N: 10000\n",
            "i: 1000 N: 10000\n",
            "i: 2000 N: 10000\n",
            "i: 3000 N: 10000\n",
            "i: 4000 N: 10000\n",
            "i: 5000 N: 10000\n",
            "i: 6000 N: 10000\n",
            "i: 7000 N: 10000\n",
            "i: 8000 N: 10000\n",
            "i: 9000 N: 10000\n",
            "train_loss: 4.2784440249097193e-07\n",
            "test_loss: 1.4946729671646844e-07\n",
            "epoch: 8\n",
            "i: 0 N: 10000\n",
            "i: 1000 N: 10000\n",
            "i: 2000 N: 10000\n",
            "i: 3000 N: 10000\n",
            "i: 4000 N: 10000\n",
            "i: 5000 N: 10000\n",
            "i: 6000 N: 10000\n",
            "i: 7000 N: 10000\n",
            "i: 8000 N: 10000\n",
            "i: 9000 N: 10000\n",
            "train_loss: 4.28797446168878e-07\n",
            "test_loss: 1.4802685648491507e-07\n",
            "epoch: 9\n",
            "i: 0 N: 10000\n",
            "i: 1000 N: 10000\n",
            "i: 2000 N: 10000\n",
            "i: 3000 N: 10000\n",
            "i: 4000 N: 10000\n",
            "i: 5000 N: 10000\n",
            "i: 6000 N: 10000\n",
            "i: 7000 N: 10000\n",
            "i: 8000 N: 10000\n",
            "i: 9000 N: 10000\n",
            "train_loss: 4.291075312903807e-07\n",
            "test_loss: 1.4678065038060456e-07\n",
            "train_losses 4.291075312903807e-07\n",
            "test_losses: 1.4678065038060456e-07\n"
          ]
        }
      ]
    },
    {
      "cell_type": "code",
      "source": [
        "plt.plot(train_losses, label = \"train loss\")\n",
        "plt.plot(test_losses, label = \"test loss\")\n",
        "plt.legend()\n",
        "plt.show()"
      ],
      "metadata": {
        "colab": {
          "base_uri": "https://localhost:8080/",
          "height": 445
        },
        "id": "QPBJ8THOJ_RC",
        "outputId": "96bda94d-757d-4a97-cf01-e82aede2f719"
      },
      "execution_count": 9,
      "outputs": [
        {
          "output_type": "display_data",
          "data": {
            "text/plain": [
              "<Figure size 640x480 with 1 Axes>"
            ],
            "image/png": "[encoded data removed]"
          },
          "metadata": {}
        }
      ]
    }
  ]
}