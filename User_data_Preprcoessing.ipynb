{
  "cells": [
    {
      "cell_type": "markdown",
      "metadata": {
        "id": "view-in-github",
        "colab_type": "text"
      },
      "source": [
        "<a href=\"https://colab.research.google.com/github/PranavShashidhara/Netflix-Recommendation-system/blob/main/User_data_Preprcoessing.ipynb\" target=\"_parent\"><img src=\"https://colab.research.google.com/assets/colab-badge.svg\" alt=\"Open In Colab\"/></a>"
      ]
    },
    {
      "cell_type": "code",
      "execution_count": null,
      "metadata": {
        "application/vnd.databricks.v1+cell": {
          "cellMetadata": {
            "byteLimit": 2048000,
            "rowLimit": 10000
          },
          "inputWidgets": {},
          "nuid": "02d9be30-3a43-451f-8250-b17c6f808ebd",
          "showTitle": false,
          "tableResultSettingsMap": {},
          "title": ""
        },
        "id": "RyPtK-98flTU"
      },
      "outputs": [],
      "source": [
        "import boto3\n",
        "import os\n",
        "import pyarrow as pa\n",
        "import pyarrow.parquet as pq\n",
        "import io\n",
        "import numpy as np\n",
        "import pandas as pd\n",
        "from pyspark.sql import SparkSession\n",
        "from pyspark.sql.functions import regexp_extract, lag, col, when, last, lit, udf, min, max\n",
        "from pyspark.sql.window import Window\n",
        "import matplotlib.pyplot as plt\n",
        "from pyspark.sql import functions as F\n",
        "from pyspark.sql.types import IntegerType"
      ]
    },
    {
      "cell_type": "code",
      "execution_count": null,
      "metadata": {
        "application/vnd.databricks.v1+cell": {
          "cellMetadata": {
            "byteLimit": 2048000,
            "rowLimit": 10000
          },
          "inputWidgets": {},
          "nuid": "66c881ee-e095-47dc-a57d-93453cf29b73",
          "showTitle": false,
          "tableResultSettingsMap": {},
          "title": ""
        },
        "id": "-uwVNQOaflTV",
        "outputId": "d8e86cb6-adc1-460c-badd-c868ee4a7a38"
      },
      "outputs": [
        {
          "output_type": "stream",
          "name": "stdout",
          "text": [
            "+--------------------+\n|               value|\n+--------------------+\n|                  1:|\n|1488844,3,2005-09-06|\n| 822109,5,2005-05-13|\n| 885013,4,2005-10-19|\n|  30878,4,2005-12-26|\n| 823519,3,2004-05-03|\n| 893988,3,2005-11-17|\n| 124105,4,2004-08-05|\n|1248029,3,2004-04-22|\n|1842128,4,2004-05-09|\n|2238063,3,2005-05-11|\n|1503895,4,2005-05-19|\n|2207774,5,2005-06-06|\n|2590061,3,2004-08-12|\n|   2442,3,2004-04-14|\n| 543865,4,2004-05-28|\n|1209119,4,2004-03-23|\n| 804919,4,2004-06-10|\n|1086807,3,2004-12-28|\n|1711859,4,2005-05-08|\n+--------------------+\nonly showing top 20 rows\n\n"
          ]
        }
      ],
      "source": [
        "movie_titles_path = \"dbfs:/FileStore/shared_uploads/pranavmay22@gmail.com/movie_titles.csv\"\n",
        "user_data_path_1 = \"dbfs:/FileStore/shared_uploads/pranavmay22@gmail.com/combined_data_1.txt\"\n",
        "user_data_path_2 = \"dbfs:/FileStore/shared_uploads/pranavmay22@gmail.com/combined_data_2.txt\"\n",
        "user_data_path_3 = \"dbfs:/FileStore/shared_uploads/pranavmay22@gmail.com/combined_data_3.txt\"\n",
        "user_data_path_4 = \"dbfs:/FileStore/shared_uploads/pranavmay22@gmail.com/combined_data_4.txt\"\n",
        "parquet_file_path = \"dbfs:/FileStore/shared_uploads/pranavmay22@gmail.com/\"\n",
        "\n",
        "raw_movie_titles = spark.read.format(\"csv\").option(\"header\", \"true\").load(movie_titles_path)\n",
        "raw_user_data_1 = spark.read.text(user_data_path_1)\n",
        "raw_user_data_2 = spark.read.text(user_data_path_2)\n",
        "raw_user_data_3 = spark.read.text(user_data_path_3)\n",
        "raw_user_data_4 = spark.read.text(user_data_path_4)\n",
        "\n",
        "raw_user_data = raw_user_data_1.union(raw_user_data_2).union(raw_user_data_3).union(raw_user_data_4)\n",
        "raw_user_data.show()"
      ]
    },
    {
      "cell_type": "code",
      "execution_count": null,
      "metadata": {
        "application/vnd.databricks.v1+cell": {
          "cellMetadata": {
            "byteLimit": 2048000,
            "rowLimit": 10000
          },
          "inputWidgets": {},
          "nuid": "4a7172c6-ca10-4d6c-a7d9-e1b55a3f6c88",
          "showTitle": false,
          "tableResultSettingsMap": {},
          "title": ""
        },
        "id": "xQKfunSgflTX",
        "outputId": "6d3d63e6-b644-4d80-f198-9364b58e88dc"
      },
      "outputs": [
        {
          "output_type": "stream",
          "name": "stdout",
          "text": [
            "+--------+-------+-------+----------+\n|Movie_id|User_id|Ratings|Date      |\n+--------+-------+-------+----------+\n|1       |997243 |4      |2004-04-09|\n|1       |1488844|3      |2005-09-06|\n|1       |1067749|3      |2004-08-08|\n|1       |822109 |5      |2005-05-13|\n|1       |951682 |4      |2004-08-24|\n|1       |885013 |4      |2005-10-19|\n|1       |1665978|3      |2004-06-15|\n|1       |30878  |4      |2005-12-26|\n|1       |1454822|5      |2004-05-04|\n|1       |823519 |3      |2004-05-03|\n|1       |184199 |3      |2004-05-03|\n|1       |893988 |3      |2005-11-17|\n|1       |789966 |3      |2004-06-05|\n|1       |124105 |4      |2004-08-05|\n|1       |2357356|4      |2004-08-10|\n|1       |1248029|3      |2004-04-22|\n|1       |759549 |4      |2004-08-14|\n|1       |1842128|4      |2004-05-09|\n|1       |1710762|3      |2004-08-19|\n|1       |2238063|3      |2005-05-11|\n+--------+-------+-------+----------+\nonly showing top 20 rows\n\n"
          ]
        }
      ],
      "source": [
        "movie_id_col = regexp_extract('value', r'^(\\d+):$', 1)\n",
        "user_id_col = regexp_extract('value', r\"^(\\d+),\", 1)\n",
        "ratings_col = regexp_extract('value', r',(\\d+),', 1)\n",
        "date_col = regexp_extract('value', r',(\\d{4}-\\d{2}-\\d{2})$', 1)\n",
        "\n",
        "temp_data_df = raw_user_data.withColumn(\"Movie_id\",when(movie_id_col!=\"\", movie_id_col))\\\n",
        "                            .withColumn(\"User_id\", when(user_id_col!=\"\", user_id_col))\\\n",
        "                            .withColumn(\"Ratings\", when(ratings_col!=\"\", ratings_col))\\\n",
        "                            .withColumn(\"Date\", when(date_col!=\"\", date_col))\n",
        "\n",
        "#user_data_df.head(5)\n",
        "window_spec = Window.orderBy(lit(1)).rowsBetween(Window.unboundedPreceding, Window.currentRow)\n",
        "filled_data = temp_data_df.withColumn(\"Movie_id\", when(col(\"Movie_id\").isNotNull(), col(\"Movie_id\")) \\\n",
        "                                           .otherwise(last(\"Movie_id\", True).over(window_spec)))\n",
        "final_data = filled_data.filter(col(\"User_id\").isNotNull())\n",
        "\n",
        "final_data = final_data.select(\"Movie_id\", \"User_id\", \"Ratings\", \"Date\")\n",
        "final_data.show(20, truncate=False)"
      ]
    },
    {
      "cell_type": "code",
      "execution_count": null,
      "metadata": {
        "application/vnd.databricks.v1+cell": {
          "cellMetadata": {
            "byteLimit": 2048000,
            "rowLimit": 10000
          },
          "inputWidgets": {},
          "nuid": "4beb615d-9e7a-4e29-9b28-af466ae788ac",
          "showTitle": false,
          "tableResultSettingsMap": {},
          "title": ""
        },
        "id": "cSdXa_pXflTX",
        "outputId": "92516d56-ecf2-47c7-b7af-20bfd7172acc"
      },
      "outputs": [
        {
          "output_type": "stream",
          "name": "stdout",
          "text": [
            "17768\n0\n"
          ]
        }
      ],
      "source": [
        "unique_movie_ids = final_data.select(F.countDistinct(\"Movie_id\")).collect()[0][0]\n",
        "print(unique_movie_ids)"
      ]
    },
    {
      "cell_type": "code",
      "execution_count": null,
      "metadata": {
        "application/vnd.databricks.v1+cell": {
          "cellMetadata": {
            "byteLimit": 2048000,
            "rowLimit": 10000
          },
          "inputWidgets": {},
          "nuid": "402bc350-c499-43f1-8641-bc2210b0f639",
          "showTitle": false,
          "tableResultSettingsMap": {},
          "title": ""
        },
        "id": "ZOSFwH6cflTX",
        "outputId": "40dc7c7b-a5e3-4269-aded-b795108c1543"
      },
      "outputs": [
        {
          "output_type": "stream",
          "name": "stdout",
          "text": [
            "Null count for User Id:  0 , Null count for Movie Id: 0 , Null count for Ratings 0\n"
          ]
        }
      ],
      "source": [
        "null_count_movie_id = final_data.filter(col(\"Movie_id\").isNull()).count()\n",
        "null_count_user_id = final_data.filter(col(\"User_id\").isNull()).count()\n",
        "null_count_ratings = final_data.filter(col(\"Ratings\").isNull()).count()\n",
        "\n",
        "print(\"Null count for User Id: \", null_count_user_id, \", Null count for Movie Id:\",null_count_movie_id, \", Null count for Ratings\", null_count_ratings)"
      ]
    },
    {
      "cell_type": "code",
      "execution_count": null,
      "metadata": {
        "application/vnd.databricks.v1+cell": {
          "cellMetadata": {
            "byteLimit": 2048000,
            "rowLimit": 10000
          },
          "inputWidgets": {},
          "nuid": "bd12c47a-f264-43f2-a47e-9d62a428ff03",
          "showTitle": false,
          "tableResultSettingsMap": {},
          "title": ""
        },
        "id": "cu763aN-flTX"
      },
      "outputs": [],
      "source": [
        "# Since CustomerIDs range from 1 to 2649429, with gaps. There are 480189 users. They will have to be made sequential for better memory efficiency and speed.\n",
        "unique_user_id = final_data.select(\"User_id\").distinct().rdd.map(lambda row: row[0]).collect()\n",
        "\n",
        "user_id_map = {cid: idx + 1 for idx, cid in enumerate(unique_user_id)}\n",
        "\n",
        "broadcast_mapping = spark.sparkContext.broadcast(user_id_map)\n",
        "\n",
        "def remap_user_id(user_id):\n",
        "    return broadcast_mapping.value.get(user_id, -1)\n",
        "\n",
        "remap_user_udf = udf(remap_user_id, IntegerType())\n",
        "\n",
        "final_data_with_remapped_user_id = final_data.withColumn(\"RemappedUserId\", remap_user_udf(final_data[\"User_id\"]))\n"
      ]
    },
    {
      "cell_type": "code",
      "execution_count": null,
      "metadata": {
        "application/vnd.databricks.v1+cell": {
          "cellMetadata": {
            "byteLimit": 2048000,
            "rowLimit": 10000
          },
          "inputWidgets": {},
          "nuid": "86d34f65-db94-498c-94a8-b334f4cd718f",
          "showTitle": false,
          "tableResultSettingsMap": {},
          "title": ""
        },
        "id": "o1XUpCvSflTY"
      },
      "outputs": [],
      "source": [
        "# since Movie Id's are sequential from from 1 to 17770 we can subtract it by 1 to start from from 0 to 17769 for better memory efficiency.\n",
        "final_data = final_data.withColumn(\"Movie_id\", (col(\"Movie_id\")-1).cast(IntegerType()))\n"
      ]
    },
    {
      "cell_type": "code",
      "execution_count": null,
      "metadata": {
        "application/vnd.databricks.v1+cell": {
          "cellMetadata": {
            "byteLimit": 2048000,
            "rowLimit": 10000
          },
          "inputWidgets": {},
          "nuid": "2d6ac522-a4dc-481c-a4eb-de1d3e7b4be5",
          "showTitle": false,
          "tableResultSettingsMap": {},
          "title": ""
        },
        "id": "5XP72Ua-flTY",
        "outputId": "34ea3035-5f23-4411-ca04-68377fd5a2c5"
      },
      "outputs": [
        {
          "output_type": "stream",
          "name": "stdout",
          "text": [
            "+---------+---------+\n|max_value|min_value|\n+---------+---------+\n|    17769|        0|\n+---------+---------+\n\n"
          ]
        }
      ],
      "source": [
        "final_data.agg(max(\"Movie_id\").alias(\"max_value\"), min(\"Movie_id\").alias(\"min_value\")).show()\n"
      ]
    },
    {
      "cell_type": "code",
      "execution_count": null,
      "metadata": {
        "application/vnd.databricks.v1+cell": {
          "cellMetadata": {
            "byteLimit": 2048000,
            "rowLimit": 10000
          },
          "inputWidgets": {},
          "nuid": "6c066291-fdb8-4679-bdb0-88c9dbda3361",
          "showTitle": false,
          "tableResultSettingsMap": {},
          "title": ""
        },
        "id": "vZsuM1YvflTY",
        "outputId": "64d159b6-d0f2-4571-9d95-887cb2b0c8e4"
      },
      "outputs": [
        {
          "output_type": "stream",
          "name": "stdout",
          "text": [
            "+---------+---------+\n|max_value|min_value|\n+---------+---------+\n|   999988|        0|\n+---------+---------+\n\n"
          ]
        }
      ],
      "source": [
        "final_data.agg(max(\"User_id\").alias(\"max_value\"), min(\"Movie_id\").alias(\"min_value\")).show()"
      ]
    },
    {
      "cell_type": "code",
      "execution_count": null,
      "metadata": {
        "application/vnd.databricks.v1+cell": {
          "cellMetadata": {
            "byteLimit": 2048000,
            "rowLimit": 10000
          },
          "inputWidgets": {},
          "nuid": "8aaa6b7a-8005-4c63-beca-fc6a90bbe85b",
          "showTitle": false,
          "tableResultSettingsMap": {},
          "title": ""
        },
        "id": "R4RhaWfEflTY",
        "outputId": "d321e60f-bae8-46bf-f7db-3a6a28b8c48a"
      },
      "outputs": [
        {
          "output_type": "stream",
          "name": "stdout",
          "text": [
            "Out[19]: 480189"
          ]
        }
      ],
      "source": [
        "mapping_df.count()"
      ]
    },
    {
      "cell_type": "code",
      "execution_count": null,
      "metadata": {
        "application/vnd.databricks.v1+cell": {
          "cellMetadata": {
            "byteLimit": 2048000,
            "rowLimit": 10000
          },
          "inputWidgets": {},
          "nuid": "c47a5d0b-b4e2-4cbb-a9fb-7f8908747785",
          "showTitle": false,
          "tableResultSettingsMap": {},
          "title": ""
        },
        "id": "qPBLjjAuflTY"
      },
      "outputs": [],
      "source": [
        "mapping_df = spark.createDataFrame(user_id_map.items(), [\"OriginalUserId\", \"RemappedUserId\"])\n",
        "mapping_df.write.mode(\"overwrite\").parquet(\"dbfs:/path_to_save/user_id_mapping\")"
      ]
    },
    {
      "cell_type": "code",
      "execution_count": null,
      "metadata": {
        "application/vnd.databricks.v1+cell": {
          "cellMetadata": {
            "byteLimit": 2048000,
            "rowLimit": 10000
          },
          "inputWidgets": {},
          "nuid": "da4d1d19-b2bc-4033-be16-1ee7a3b6416d",
          "showTitle": false,
          "tableResultSettingsMap": {},
          "title": ""
        },
        "id": "7qz5tdjOflTY",
        "outputId": "d3b0fa4b-631c-488c-a913-d43e6a739b13"
      },
      "outputs": [
        {
          "output_type": "stream",
          "name": "stdout",
          "text": [
            "Total records: 100480507\n"
          ]
        }
      ],
      "source": [
        "total_records = final_data.count()\n",
        "\n",
        "print(f\"Total records: {total_records}\")"
      ]
    },
    {
      "cell_type": "code",
      "execution_count": null,
      "metadata": {
        "application/vnd.databricks.v1+cell": {
          "cellMetadata": {
            "byteLimit": 2048000,
            "rowLimit": 10000
          },
          "inputWidgets": {},
          "nuid": "86539f73-9d7a-42bd-b530-a162bee85b42",
          "showTitle": false,
          "tableResultSettingsMap": {},
          "title": ""
        },
        "id": "M5NudKPRflTY",
        "outputId": "600a6287-8f8f-430d-bfee-9c6834f49342"
      },
      "outputs": [
        {
          "output_type": "stream",
          "name": "stdout",
          "text": [
            "Filtered data size: 9357999\n"
          ]
        }
      ],
      "source": [
        "N = final_data.select(\"Movie_id\").distinct().count()\n",
        "M = final_data.select(\"User_id\").distinct().count()\n",
        "\n",
        "movie_id_count = final_data.groupBy(\"Movie_id\").count().collect()\n",
        "user_id_count = final_data.groupBy(\"User_id\").count().collect()\n",
        "\n",
        "movie_ids_count = {row['Movie_id']: row['count'] for row in movie_id_count}\n",
        "user_ids_count = {row['User_id']: row['count'] for row in user_id_count}\n",
        "\n",
        "n = 10000  # Top N users\n",
        "m = 2000   # Top M movies\n",
        "\n",
        "# Get the top N most frequent users and M most frequent movies\n",
        "top_users = [user for user, _ in sorted(user_ids_count.items(), key=lambda item: item[1], reverse=True)[:n]]\n",
        "top_movies = [movie for movie, _ in sorted(movie_ids_count.items(), key=lambda item: item[1], reverse=True)[:m]]\n",
        "\n",
        "filtered_data = final_data.filter(final_data[\"User_id\"].isin(top_users) & final_data[\"Movie_id\"].isin(top_movies))\n",
        "\n",
        "print(f\"Filtered data size: {filtered_data.count()}\")\n",
        "\n",
        "filtered_data.write.csv(\"path_to_save_filtered_data.csv\", header=True)"
      ]
    },
    {
      "cell_type": "code",
      "execution_count": null,
      "metadata": {
        "application/vnd.databricks.v1+cell": {
          "cellMetadata": {
            "byteLimit": 2048000,
            "rowLimit": 10000
          },
          "inputWidgets": {},
          "nuid": "53a9db45-41e3-4e78-83af-06b6c6113030",
          "showTitle": false,
          "tableResultSettingsMap": {},
          "title": ""
        },
        "id": "kfr0RnqmflTY"
      },
      "outputs": [],
      "source": [
        "filtered_data.write.parquet(\"dbfs:/path_to_save/small_filtered_data.parquet\")"
      ]
    },
    {
      "cell_type": "code",
      "execution_count": null,
      "metadata": {
        "application/vnd.databricks.v1+cell": {
          "cellMetadata": {
            "byteLimit": 2048000,
            "rowLimit": 10000
          },
          "inputWidgets": {},
          "nuid": "1a1b492f-098e-41ee-86e6-7781a80f2ef1",
          "showTitle": false,
          "tableResultSettingsMap": {},
          "title": ""
        },
        "id": "pHdCeSlbflTZ"
      },
      "outputs": [],
      "source": [
        "final_data.write.parquet(\"dbfs:/path_to_save/final_data.parquet\")"
      ]
    },
    {
      "cell_type": "code",
      "execution_count": null,
      "metadata": {
        "application/vnd.databricks.v1+cell": {
          "cellMetadata": {
            "byteLimit": 2048000,
            "rowLimit": 10000
          },
          "inputWidgets": {},
          "nuid": "eec20298-42d6-4fb6-972e-52f74c1c0bef",
          "showTitle": false,
          "tableResultSettingsMap": {},
          "title": ""
        },
        "id": "6w7kl9twflTZ",
        "outputId": "9f472e2e-3ced-49bd-aca5-c402bcb1562a"
      },
      "outputs": [
        {
          "output_type": "stream",
          "name": "stdout",
          "text": [
            "File uploaded successfully to s3://netflix-project-data/Preprocessed data/Small_filtered_data.parquet\n"
          ]
        }
      ],
      "source": [
        "aws_access_key_id = ''\n",
        "aws_secret_access_key = ''\n",
        "region_name = 'us-east-1'  # Adjust based on your bucket region\n",
        "\n",
        "s3_client = boto3.client('s3', aws_access_key_id=aws_access_key_id,\n",
        "                         aws_secret_access_key=aws_secret_access_key, region_name=region_name)\n",
        "\n",
        "bucket_name = 'netflix-project-data'\n",
        "parquet_s3_path = 'Preprocessed data/Small_filtered_data.parquet'\n",
        "\n",
        "df_spark = spark.read.parquet(\"dbfs:/path_to_save/small_filtered_data.parquet/\")\n",
        "\n",
        "df_pandas = df_spark.toPandas()\n",
        "\n",
        "table = pa.Table.from_pandas(df_pandas)\n",
        "\n",
        "local_file_path = '/tmp/pandas_data.parquet'\n",
        "pq.write_table(table, local_file_path)\n",
        "\n",
        "try:\n",
        "    s3_client.upload_file(local_file_path, bucket_name, parquet_s3_path)\n",
        "    print(f\"File uploaded successfully to s3://{bucket_name}/{parquet_s3_path}\")\n",
        "except Exception as e:\n",
        "    print(f\"Error uploading file: {e}\")\n",
        "\n",
        "os.remove(local_file_path)\n"
      ]
    },
    {
      "cell_type": "code",
      "execution_count": null,
      "metadata": {
        "application/vnd.databricks.v1+cell": {
          "cellMetadata": {
            "byteLimit": 2048000,
            "rowLimit": 10000
          },
          "inputWidgets": {},
          "nuid": "22a8311b-acbf-41b6-a418-cc16ff2a9096",
          "showTitle": false,
          "tableResultSettingsMap": {},
          "title": ""
        },
        "id": "17_qOj3lflTZ",
        "outputId": "03bc7130-a140-4619-849d-6b9ced2989b7"
      },
      "outputs": [
        {
          "output_type": "stream",
          "name": "stdout",
          "text": [
            "File uploaded successfully to s3://netflix-project-data/Preprocessed data/Final_processed_data.parquet\n"
          ]
        }
      ],
      "source": [
        "df_spark = spark.read.parquet(\"dbfs:/path_to_save/final_data.parquet/\")\n",
        "parquet_s3_path = 'Preprocessed data/Final_processed_data.parquet'\n",
        "local_file_path = '/tmp/pandas_data.parquet'\n",
        "\n",
        "df_pandas = df_spark.toPandas()\n",
        "\n",
        "table = pa.Table.from_pandas(df_pandas)\n",
        "\n",
        "pq.write_table(table, local_file_path)\n",
        "\n",
        "try:\n",
        "    s3_client.upload_file(local_file_path, bucket_name, parquet_s3_path)\n",
        "    print(f\"File uploaded successfully to s3://{bucket_name}/{parquet_s3_path}\")\n",
        "except Exception as e:\n",
        "    print(f\"Error uploading file: {e}\")"
      ]
    }
  ],
  "metadata": {
    "application/vnd.databricks.v1+notebook": {
      "computePreferences": null,
      "dashboards": [],
      "environmentMetadata": {
        "base_environment": "",
        "client": "1"
      },
      "language": "python",
      "notebookMetadata": {
        "pythonIndentUnit": 4
      },
      "notebookName": "User data Preprcoessing",
      "widgets": {}
    },
    "colab": {
      "provenance": [],
      "include_colab_link": true
    }
  },
  "nbformat": 4,
  "nbformat_minor": 0
}